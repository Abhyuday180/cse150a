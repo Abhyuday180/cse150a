{
 "cells": [
  {
   "cell_type": "markdown",
   "metadata": {},
   "source": [
    "# Trading Agent using Bayesian Networks\n",
    "\n",
    "This notebook demonstrates how to build a trading agent using Bayesian Networks. It fetches stock market data, processes it, and uses Bayesian inference for decision-making.\n"
   ]
  },
  {
   "cell_type": "code",
   "execution_count": null,
   "metadata": {},
   "outputs": [],
   "source": [
    "import yfinance as yf\n",
    "import pandas as pd\n",
    "import numpy as np\n",
    "import matplotlib.pyplot as plt\n",
    "import seaborn as sns\n",
    "!pip install pgmpy\n",
    "from pgmpy.models import BayesianNetwork\n",
    "from pgmpy.estimators import MaximumLikelihoodEstimator\n",
    "from pgmpy.inference import VariableElimination\n"
   ]
  },
  {
   "cell_type": "markdown",
   "metadata": {},
   "source": [
    "## Data Collection\n"
   ]
  },
  {
   "cell_type": "code",
   "execution_count": null,
   "metadata": {},
   "outputs": [],
   "source": [
    "ticker = 'AAPL'\n",
    "data = yf.download(ticker, start='2010-01-01', end='2023-12-31')\n",
    "data.to_csv(f'{ticker}_data.csv')\n"
   ]
  },
  {
   "cell_type": "markdown",
   "metadata": {},
   "source": [
    "## Bayesian Network\n"
   ]
  },
  {
   "cell_type": "code",
   "execution_count": null,
   "metadata": {},
   "outputs": [],
   "source": [
    "model = BayesianNetwork([\n",
    "    ('RSI_Cat', 'Price_Movement'),\n",
    "    ('Vol_Cat', 'Price_Movement'),\n",
    "    ('Vol_Chg', 'Price_Movement'),\n",
    "    ('Price_Movement', 'Action')\n",
    "])\n",
    "data['Price_Movement'] = pd.to_numeric(data['Price_Movement'], errors='coerce')\n",
    "data['Action'] = data['Price_Movement'].apply(lambda x: 'Buy' if x > 0 else 'Sell' if x < 0 else 'Hold')\n",
    "train_data = data.sample(frac=0.8, random_state=42)\n",
    "test_data = data.drop(train_data.index)\n",
    "train_data = train_data[['RSI_Cat', 'Vol_Cat', 'Vol_Chg', 'Price_Movement', 'Action']]\n",
    "train_data['Vol_Chg'] = np.sign(data['Volume'].pct_change()).replace({1: 'Up', -1: 'Down', 0: 'No Change'})\n",
    "train_data['Vol_Chg'].fillna('No Change', inplace=True)\n",
    "train_data['Price_Movement'] = np.sign(data['Close'].pct_change())\n",
    "train_data['Price_Movement'] = train_data['Price_Movement'].replace({1: 'Up', -1: 'Down', 0: 'No Change'})\n",
    "train_data['Price_Movement'].fillna('No Change', inplace=True)\n",
    "test_data['Vol_Chg'] = np.sign(test_data['Volume'].pct_change()).replace({1: 'Up', -1: 'Down', 0: 'No Change'})\n",
    "test_data['Vol_Chg'].fillna('No Change', inplace=True)\n",
    "model.fit(train_data, estimator=MaximumLikelihoodEstimator)\n"
   ]
  },
  {
   "cell_type": "markdown",
   "metadata": {},
   "source": [
    "## Evaluation\n"
   ]
  },
  {
   "cell_type": "code",
   "execution_count": null,
   "metadata": {},
   "outputs": [],
   "source": [
    "def calculate_returns(model, test_data):\n",
    "    portfolio = 10000\n",
    "    holdings = 0\n",
    "    for idx, row in test_data.iterrows():\n",
    "        evidence = {\n",
    "            'RSI_Cat': row['RSI_Cat'],\n",
    "            'Vol_Cat': row['Vol_Cat'],\n",
    "            'Vol_Chg': row['Vol_Chg']\n",
    "        }\n",
    "        action = inference.map_query(variables=['Action'], evidence=evidence)['Action']\n",
    "        if action == 'Buy' and portfolio > 0:\n",
    "            holdings += portfolio / row['Close']\n",
    "            portfolio = 0\n",
    "        elif action == 'Sell' and holdings > 0:\n",
    "            portfolio += holdings * row['Close']\n",
    "            holdings = 0\n",
    "    final_value = portfolio + holdings * test_data.iloc[-1]['Close']\n",
    "    return final_value\n",
    "model_returns = calculate_returns(model, test_data)\n",
    "buy_hold_returns = 10000 * (test_data.iloc[-1]['Close'] / test_data.iloc[0]['Close'])\n",
    "print(f'Model Returns: ${model_returns:.2f}')\n",
    "print(f'Buy & Hold Returns: ${buy_hold_returns:.2f}')\n"
   ]
  }
 ]
},

 "metadata": {
  "kernelspec": {
   "display_name": "Python 3",
   "language": "python",
   "name": "python3"
  },
  "language_info": {
   "codemirror_mode": {
    "name": "ipython",
    "version": 3
   },
   "file_extension": ".py",
   "mimetype": "text/x-python",
   "name": "python",
   "nbconvert_exporter": "python",
   "pygments_lexer": "ipython3",
   "version": "3.6.4"
  }
 },
{
 "nbformat": 4,
 "nbformat_minor": 1
}
}
