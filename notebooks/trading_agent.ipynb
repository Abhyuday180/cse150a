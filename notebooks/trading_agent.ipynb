# Import libraries
import yfinance as yf
import pandas as pd
import numpy as np
import matplotlib.pyplot as plt
import seaborn as sns
!pip install pgmpy
from pgmpy.models import BayesianNetwork
from pgmpy.estimators import MaximumLikelihoodEstimator, BayesianEstimator
from pgmpy.inference import VariableElimination

# 1. Data Collection
ticker = "AAPL"
data = yf.download(ticker, start="2010-01-01", end="2023-12-31")
data.to_csv(f"{ticker}_data.csv")

# 2. Data Exploration
print(f"Number of observations: {len(data)}")
print("Data Description:")
print(data.describe())
data.info()

# Missing Data Check
print("Missing Values:")
print(data.isnull().sum())

# 3. Feature Engineering
# Calculate technical indicators
data['MA_20'] = data['Close'].rolling(20).mean()
data['RSI'] = 100 - (100 / (1 + data['Close'].diff(1).clip(lower=0).rolling(14).mean() /
                    data['Close'].diff(1).clip(upper=0).abs().rolling(14).mean()))
data['Volatility'] = data['Close'].pct_change().rolling(20).std() * np.sqrt(252)

# Create target variable (Next Day Price Movement)
data['Price_Movement'] = np.where(data['Close'].shift(-1) > data['Close'], 'Up', 'Down')
# Handle missing values
data.dropna(inplace=True)

# 4. Discretization for Bayesian Network
bins = {
    'RSI': [0, 30, 70, 100],
    'Volatility': [0, 0.2, 0.4, np.inf],
    'VolumeAAPL': [0, data['VolumeAAPL'].quantile(0.33), data['VolumeAAPL'].quantile(0.66), np.inf]  # Fix name
}

labels = ['Low', 'Medium', 'High']
data['RSI_Cat'] = pd.cut(data['RSI'], bins=bins['RSI'], labels=labels)
data['Vol_Cat'] = pd.cut(data['Volatility'], bins=bins['Volatility'], labels=labels)
data['Vol_Chg'] = np.sign(data['VolumeAAPL'].pct_change()).replace({1: 'Up', -1: 'Down', 0: 'No Change'}).fillna('No Change')

print(data.columns.tolist())  # Final verification


# 5. Bayesian Network
# Define Bayesian Network Structure with corrected column names
model = BayesianNetwork([
    ('RSICat', 'PriceMovement'),
    ('VolCat', 'PriceMovement'),
    ('VolChg', 'PriceMovement'),
    ('PriceMovement', 'Action')
])

# Ensure 'PriceMovement' is numeric
data['PriceMovement'] = pd.to_numeric(data['PriceMovement'], errors='coerce')

# Generate 'Action' column
data['Action'] = data['PriceMovement'].apply(lambda x: 'Buy' if x > 0 else 'Sell' if x < 0 else 'Hold')

# Split into train/test sets
train_data = data.sample(frac=0.8, random_state=42)

test_data = data.drop(train_data.index)

# Select columns correctly
train_data = train_data[['RSICat', 'VolCat', 'VolChg', 'PriceMovement', 'Action']]
train_data['VolChg'] = np.sign(data['VolumeAAPL'].pct_change()).replace({1: 'Up', -1: 'Down', 0: 'No Change'})
train_data['VolChg'].fillna('No Change', inplace=True)
train_data['PriceMovement'] = np.sign(data['CloseAAPL'].pct_change())
train_data['PriceMovement'] = train_data['PriceMovement'].replace({1: 'Up', -1: 'Down', 0: 'No Change'})
train_data['PriceMovement'].fillna('No Change', inplace=True)

test_data['VolChg'] = np.sign(test_data['VolumeAAPL'].pct_change()).replace(
    {1: 'Up', -1: 'Down', 0: 'No Change'}
)
test_data['VolChg'].fillna('No Change', inplace=True)


# Debugging step to ensure correct columns before fitting
print("Columns in train_data:", train_data.columns.tolist())

# Fit model
model.fit(train_data, estimator=MaximumLikelihoodEstimator)


# 6. Inference
print(test_data['RSICat'].unique())
print(test_data['VolCat'].unique())
print(test_data['VolChg'].unique())

inference = VariableElimination(model)
query = inference.map_query(
    variables=['Action'],
    evidence={
        'RSICat': 'Medium',
        'VolCat': 'High',
        'VolChg': 'Up'
    }
)
print(f"Recommended Action: {query['Action']}")

# 7. Evaluation
# Backtesting
def calculate_returns(model, test_data):
    portfolio = 10000  # Initial investment
    holdings = 0

    for idx, row in test_data.iterrows():
        evidence = {
            'RSICat': row['RSICat'],
            'VolCat': row['VolCat'],
            'VolChg': row['VolChg']
        }
        action = inference.map_query(variables=['Action'], evidence=evidence)['Action']

        if action == 'Buy' and portfolio > 0:
            holdings += portfolio / row['Close']
            portfolio = 0
        elif action == 'Sell' and holdings > 0:
            portfolio += holdings * row['Close']
            holdings = 0

    final_value = portfolio + holdings * test_data.iloc[-1]['Close']
    return final_value

model_returns = calculate_returns(model, test_data)
buy_hold_returns = 10000 * (test_data.iloc[-1]['Close'] / test_data.iloc[0]['Close'])
print(f"Model Returns: ${model_returns:.2f}")
print(f"Buy & Hold Returns: ${buy_hold_returns:.2f}")
