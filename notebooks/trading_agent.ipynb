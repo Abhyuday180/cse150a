{
  "nbformat": 4,
  "nbformat_minor": 1,
  "metadata": {
    "kernelspec": {
      "display_name": "Python 3",
      "language": "python",
      "name": "python3"
    },
    "language_info": {
      "codemirror_mode": {
        "name": "ipython",
        "version": 3
      },
      "file_extension": ".py",
      "mimetype": "text/x-python",
      "name": "python",
      "nbconvert_exporter": "python",
      "pygments_lexer": "ipython3",
      "version": "3.6.4"
    }
  },
  "cells": [
    {
      "cell_type": "markdown",
      "metadata": {},
      "source": [
        "# Trading Agent using Bayesian Networks\n",
        "\n",
        "This notebook demonstrates how to build a trading agent using Bayesian Networks. It fetches stock market data, processes it, and uses Bayesian inference for decision-making."
      ]
    },
    {
      "cell_type": "code",
      "execution_count": null,
      "metadata": {},
      "outputs": [],
      "source": [
        "import yfinance as yf\n",
        "import pandas as pd\n",
        "import numpy as np\n",
        "import matplotlib.pyplot as plt\n",
        "import seaborn as sns\n",
        "!pip install pgmpy\n",
        "from pgmpy.models import BayesianNetwork\n",
        "from pgmpy.estimators import MaximumLikelihoodEstimator\n",
        "from pgmpy.inference import VariableElimination"
      ]
    },
    {
      "cell_type": "markdown",
      "metadata": {},
      "source": [
        "## Data Collection"
      ]
    },
    {
      "cell_type": "code",
      "execution_count": null,
      "metadata": {},
      "outputs": [],
      "source": [
        "ticker = 'AAPL'\n",
        "data = yf.download(ticker, start='2010-01-01', end='2023-12-31')\n",
        "data.to_csv(f'{ticker}_data.csv')"
      ]
    },
    {
      "cell_type": "markdown",
      "metadata": {},
      "source": [
        "## Bayesian Network"
      ]
    },
    {
      "cell_type": "code",
      "execution_count": null,
      "metadata": {},
      "outputs": [],
      "source": [
        "# Define the network structure\n",
        "model = BayesianNetwork([\n",
        "    ('RSI_Cat', 'Price_Movement'),\n",
        "    ('Vol_Cat', 'Price_Movement'),\n",
        "    ('Vol_Chg', 'Price_Movement'),\n",
        "    ('Price_Movement', 'Action')\n",
        "])\n",
        "\n",
        "# Prepare data columns (dummy placeholders for RSI_Cat, Vol_Cat, etc.)\n",
        "# Make sure you have RSI_Cat, Vol_Cat, Vol_Chg, Price_Movement columns in your data.\n",
        "# Below is simplified demonstration code.\n",
        "data['Price_Movement'] = pd.to_numeric(data['Close'].pct_change(), errors='coerce')\n",
        "data['Action'] = data['Price_Movement'].apply(lambda x: 'Buy' if x > 0 else 'Sell' if x < 0 else 'Hold')\n",
        "\n",
        "# Split into train/test\n",
        "train_data = data.sample(frac=0.8, random_state=42)\n",
        "test_data = data.drop(train_data.index)\n",
        "\n",
        "# Create categorical placeholders\n",
        "train_data['RSI_Cat'] = pd.cut(np.random.rand(len(train_data)), bins=[0, 0.3, 0.7, 1.0], labels=['Low', 'Medium', 'High'])\n",
        "train_data['Vol_Cat'] = pd.cut(np.random.rand(len(train_data)), bins=[0, 0.3, 0.7, 1.0], labels=['Low', 'Medium', 'High'])\n",
        "train_data['Vol_Chg'] = np.sign(np.random.randn(len(train_data)))\n",
        "train_data['Vol_Chg'] = train_data['Vol_Chg'].replace({1: 'Up', -1: 'Down', 0: 'No Change'})\n",
        "\n",
        "train_data['Price_Movement'] = np.sign(train_data['Price_Movement'])\n",
        "train_data['Price_Movement'] = train_data['Price_Movement'].replace({1: 'Up', -1: 'Down', 0: 'No Change'})\n",
        "\n",
        "# We'll keep only the columns needed\n",
        "train_data = train_data[['RSI_Cat', 'Vol_Cat', 'Vol_Chg', 'Price_Movement', 'Action']].dropna()\n",
        "\n",
        "# Fit the model\n",
        "model.fit(train_data, estimator=MaximumLikelihoodEstimator)\n",
        "# Prepare inference object\n",
        "inference = VariableElimination(model)"
      ]
    },
    {
      "cell_type": "markdown",
      "metadata": {},
      "source": [
        "## Evaluation"
      ]
    },
    {
      "cell_type": "code",
      "execution_count": null,
      "metadata": {},
      "outputs": [],
      "source": [
        "def calculate_returns(model, test_data):\n",
        "    portfolio = 10000.0\n",
        "    holdings = 0.0\n",
        "\n",
        "    # For simplicity, create the same categorical placeholders for test_data\n",
        "    test_data = test_data.copy()\n",
        "    test_data['RSI_Cat'] = pd.cut(np.random.rand(len(test_data)), bins=[0, 0.3, 0.7, 1.0], labels=['Low', 'Medium', 'High'])\n",
        "    test_data['Vol_Cat'] = pd.cut(np.random.rand(len(test_data)), bins=[0, 0.3, 0.7, 1.0], labels=['Low', 'Medium', 'High'])\n",
        "    test_data['Vol_Chg'] = np.sign(np.random.randn(len(test_data)))\n",
        "    test_data['Vol_Chg'] = test_data['Vol_Chg'].replace({1: 'Up', -1: 'Down', 0: 'No Change'})\n",
        "    # Price movement sign\n",
        "    test_data['Price_Movement'] = np.sign(test_data['Close'].pct_change()).replace({1: 'Up', -1: 'Down', 0: 'No Change'})\n",
        "    # For consistent labeling with model training:\n",
        "    test_data['Action'] = test_data['Price_Movement'].apply(\n",
        "        lambda x: 'Buy' if x == 'Up' else 'Sell' if x == 'Down' else 'Hold'\n",
        "    )\n",
        "\n",
        "    # Traverse test data and apply the model's decisions\n",
        "    for idx, row in test_data.iterrows():\n",
        "        # If needed, we create an inference query.\n",
        "        # The model's structure used RSI_Cat, Vol_Cat, Vol_Chg -> Price_Movement -> Action.\n",
        "        # So we query for 'Action' given RSI_Cat, Vol_Cat, Vol_Chg.\n",
        "        if pd.isna(row['RSI_Cat']) or pd.isna(row['Vol_Cat']) or pd.isna(row['Vol_Chg']):\n",
        "            continue  # skip rows with missing categories\n",
        "\n",
        "        evidence = {\n",
        "            'RSI_Cat': row['RSI_Cat'],\n",
        "            'Vol_Cat': row['Vol_Cat'],\n",
        "            'Vol_Chg': row['Vol_Chg']\n",
        "        }\n",
        "        # MAP query (most probable action)\n",
        "        action = inference.map_query(variables=['Action'], evidence=evidence)['Action']\n",
        "\n",
        "        # Simple logic: if action is Buy, invest all; if Sell, liquidate all.\n",
        "        price = row['Close']\n",
        "        if price is not None and not np.isnan(price):\n",
        "            if action == 'Buy' and portfolio > 0:\n",
        "                holdings += portfolio / price\n",
        "                portfolio = 0\n",
        "            elif action == 'Sell' and holdings > 0:\n",
        "                portfolio += holdings * price\n",
        "                holdings = 0\n",
        "\n",
        "    # Final value if we still have holdings at the end\n",
        "    if holdings > 0 and len(test_data) > 0:\n",
        "        final_price = test_data.iloc[-1]['Close']\n",
        "        portfolio += holdings * final_price\n",
        "        holdings = 0\n",
        "\n",
        "    return portfolio\n",
        "\n",
        "# Calculate returns from the model\n",
        "model_returns = calculate_returns(model, test_data)\n",
        "\n",
        "# Calculate naive buy & hold returns\n",
        "initial_price = test_data.iloc[0]['Close'] if len(test_data) > 0 else 1\n",
        "final_price = test_data.iloc[-1]['Close'] if len(test_data) > 0 else 1\n",
        "buy_hold_returns = 10000.0 * (final_price / initial_price)\n",
        "\n",
        "print(f\"Model Returns: ${model_returns:.2f}\")\n",
        "print(f\"Buy & Hold Returns: ${buy_hold_returns:.2f}\")"
      ]
    }
  ]
}
