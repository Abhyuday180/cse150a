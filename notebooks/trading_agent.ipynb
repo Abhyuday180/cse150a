{
 "cells": [
  {
   "cell_type": "markdown",
   "metadata": {},
   "source": [
    "# Trading Agent using Bayesian Networks\n",
    "\n",
    "This notebook demonstrates how to build a trading agent using Bayesian Networks. It fetches stock market data, processes it, and uses Bayesian inference for decision-making."
   ]
  },
  {
   "cell_type": "code",
   "execution_count": null,
   "metadata": {},
   "outputs": [],
   "source": [
    "# Import libraries\n",
    "import yfinance as yf\n",
    "import pandas as pd\n",
    "import numpy as np\n",
    "import matplotlib.pyplot as plt\n",
    "import seaborn as sns\n",
    "!pip install pgmpy\n",
    "from pgmpy.models import BayesianNetwork\n",
    "from pgmpy.estimators import MaximumLikelihoodEstimator\n",
    "from pgmpy.inference import VariableElimination"
   ]
  },
  {
   "cell_type": "markdown",
   "metadata": {},
   "source": [
    "## Data Collection"
   ]
  },
  {
   "cell_type": "code",
   "execution_count": null,
   "metadata": {},
   "outputs": [],
   "source": [
    "ticker = 'AAPL'\n",
    "data = yf.download(ticker, start='2010-01-01', end='2023-12-31')\n",
    "data.to_csv(f'{ticker}_data.csv')"
   ]
  },
  {
   "cell_type": "markdown",
   "metadata": {},
   "source": [
    "## Data Exploration"
   ]
  },
  {
   "cell_type": "code",
   "execution_count": null,
   "metadata": {},
   "outputs": [],
   "source": [
    "print(f'Number of observations: {len(data)}')\n",
    "print('Data Description:')\n",
    "print(data.describe())\n",
    "data.info()\n",
    "print('Missing Values:')\n",
    "print(data.isnull().sum())"
   ]
  },
  {
   "cell_type": "markdown",
   "metadata": {},
   "source": [
    "## Feature Engineering"
   ]
  },
  {
   "cell_type": "code",
   "execution_count": null,
   "metadata": {},
   "outputs": [],
   "source": [
    "data['MA_20'] = data['Close'].rolling(20).mean()\n",
    "data['RSI'] = 100 - (100 / (1 + data['Close'].diff(1).clip(lower=0).rolling(14).mean() /\n",
    "                    data['Close'].diff(1).clip(upper=0).abs().rolling(14).mean()))\n",
    "data['Volatility'] = data['Close'].pct_change().rolling(20).std() * np.sqrt(252)\n",
    "data['Price_Movement'] = np.where(data['Close'].shift(-1) > data['Close'], 'Up', 'Down')\n",
    "data.dropna(inplace=True)"
   ]
  },
  {
   "cell_type": "markdown",
   "metadata": {},
   "source": [
    "## Discretization for Bayesian Network"
   ]
  },
  {
   "cell_type": "code",
   "execution_count": null,
   "metadata": {},
   "outputs": [],
   "source": [
    "bins = {\n",
    "    'RSI': [0, 30, 70, 100],\n",
    "    'Volatility': [0, 0.2, 0.4, np.inf],\n",
    "    'Volume': [0, data['Volume'].quantile(0.33), data['Volume'].quantile(0.66), np.inf]\n",
    "}\n",
    "labels = ['Low', 'Medium', 'High']\n",
    "data['RSI_Cat'] = pd.cut(data['RSI'], bins=bins['RSI'], labels=labels)\n",
    "data['Vol_Cat'] = pd.cut(data['Volatility'], bins=bins['Volatility'], labels=labels)\n",
    "data['Vol_Chg'] = np.sign(data['Volume'].pct_change()).replace({1: 'Up', -1: 'Down', 0: 'No Change'}).fillna('No Change')"
   ]
  },
  {
   "cell_type": "markdown",
   "metadata": {},
   "source": [
    "## Bayesian Network"
   ]
  },
  {
   "cell_type": "code",
   "execution_count": null,
   "metadata": {},
   "outputs": [],
   "source": [
    "model = BayesianNetwork([\n",
    "    ('RSI_Cat', 'Price_Movement'),\n",
    "    ('Vol_Cat', 'Price_Movement'),\n",
    "    ('Vol_Chg', 'Price_Movement'),\n",
    "    ('Price_Movement', 'Action')\n",
    "])\n",
    "train_data = data.sample(frac=0.8, random_state=42)\n",
    "test_data = data.drop(train_data.index)\n",
    "train_data = train_data[['RSI_Cat', 'Vol_Cat', 'Vol_Chg', 'Price_Movement']]\n",
    "model.fit(train_data, estimator=MaximumLikelihoodEstimator)"
   ]
  },
  {
   "cell_type": "markdown",
   "metadata": {},
   "source": [
    "## Inference"
   ]
  },
  {
   "cell_type": "code",
   "execution_count": null,
   "metadata": {},
   "outputs": [],
   "source": [
    "inference = VariableElimination(model)\n",
    "query = inference.map_query(\n",
    "    variables=['Action'],\n",
    "    evidence={\n",
    "        'RSI_Cat': 'Medium',\n",
    "        'Vol_Cat': 'High',\n",
    "        'Vol_Chg': 'Up'\n",
    "    }\n",
    ")\n",
    "print(f'Recommended Action: {query['Action']}')"
   ]
  }
 ],
 "metadata": {
  "kernelspec": {
   "display_name": "Python 3",
   "language": "python",
   "name": "python3"
  },
  "language_info": {
   "codemirror_mode": {
    "name": "ipython",
    "version": 3
   },
   "file_extension": ".py",
   "mimetype": "text/x-python",
   "name": "python",
   "nbconvert_exporter": "python",
   "pygments_lexer": "ipython3",
   "version": "3.6.4"
  }
 },
 "nbformat": 4,
 "nbformat_minor": 1
}
